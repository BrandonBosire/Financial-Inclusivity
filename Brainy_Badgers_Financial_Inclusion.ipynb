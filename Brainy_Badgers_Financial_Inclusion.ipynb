{
  "nbformat": 4,
  "nbformat_minor": 0,
  "metadata": {
    "colab": {
      "name": "Brainy Badgers Financial Inclusion.ipynb",
      "provenance": [],
      "collapsed_sections": [
        "jhGJPR4ksNWt"
      ],
      "toc_visible": true,
      "include_colab_link": true
    },
    "kernelspec": {
      "display_name": "Python 3",
      "name": "python3"
    },
    "language_info": {
      "name": "python"
    }
  },
  "cells": [
    {
      "cell_type": "markdown",
      "metadata": {
        "id": "view-in-github",
        "colab_type": "text"
      },
      "source": [
        "<a href=\"https://colab.research.google.com/github/BrandonBosire/Financial-Inclusivity/blob/main/Brainy_Badgers_Financial_Inclusion.ipynb\" target=\"_parent\"><img src=\"https://colab.research.google.com/assets/colab-badge.svg\" alt=\"Open In Colab\"/></a>"
      ]
    },
    {
      "cell_type": "markdown",
      "metadata": {
        "id": "E5LXqTPBGIFY"
      },
      "source": [
        "# Project overview"
      ]
    },
    {
      "cell_type": "markdown",
      "metadata": {
        "id": "GEjJQzuA6Q1B"
      },
      "source": [
        "## FINACIAL INCLUSIVITY CHECKER\n",
        "\n",
        "This is the notebook that will house the dataset to be prepared and later analysed in accordance to the project goals.\n",
        "\n",
        "###DATASET\n",
        "The group Brainy Badgers, has been tasked with assessing the level of financial inclusion in the region encompassing Kenya, Rwanda , Uganda and Tanzania. This is being done with the help of a dataset called the Financial Inclusion dataset.It is an excel format datatable that has thirteen columns and twenty three thousand five hundred and twenty five rows.The attributes are as follows:\n",
        "\n",
        "-country -(Country interviewee is in.)\n",
        "\n",
        "-year -(Year survey was done in.)\n",
        "\n",
        "-unique id - (Unique identifier for each interviewee)\n",
        "\n",
        "-location type -(Type of location: Rural, Urban)\n",
        "\n",
        "-cellphone access -(If interviewee has access to a cellphone: Yes, No)\n",
        "\n",
        "-household size -(Number of people living in one house)\n",
        "\n",
        "-Age of respondent -(The age of the interviewee)\n",
        "\n",
        "-gender of respondent - (Gender of interviewee: Male, Female)\n",
        "\n",
        "-relationship with head - (The interviewees' relationship with the head of the house:Head of Household, Spouse, Child, Parent, Other relative, Other non-relatives, Dont know)\n",
        "\n",
        "-maritial status - (The martial status of the interviewee: Married/Living together, Divorced/Seperated, Widowed, Single/Never Married, Don't know)\n",
        "\n",
        "-education level - (Highest level of education: No formal education, Primary education, Secondary education, Vocational/Specialised training, Tertiary education, Other/Dont know/RTA)\n",
        "\n",
        "-job type - (Type of job interviewee has: Farming and Fishing, Self employed, Formally employed Government, Formally employed Private, Informally employed, Remittance Dependent, Government Dependent, Other Income, No Income, Dont Know/Refuse to answer)\n",
        "\n",
        "Prior to the analysis of the dataset, cleaning will be undertaken. Primarily this will involve the removal of duplicates ,removal of the uniqueid column and the changing of the datatypes respectively.\n",
        "\n",
        "The next step will be the creation of new columns from the breaking of existing columns. From the relationship with head column,we will create a new column called head_of_household,this will state yes if the respondent is the head of the household.\n",
        "\n",
        "The next column to be broken will be the maritial status column creating a new column called the living_condition which will identify the state of the respondent whether they live with their spouse or not.\n",
        "\n",
        "To then ensure the validity of the data we will then identify duplications in the dataset ,removing all duplicates from the data.We will also be converting the year column to datetime datatypes.\n",
        "\n",
        "After this, the data will be cleaned to sufficently.\n",
        "\n"
      ]
    },
    {
      "cell_type": "markdown",
      "metadata": {
        "id": "C_jwUvSrGOQZ"
      },
      "source": [
        "# 1.0 Import the libraries"
      ]
    },
    {
      "cell_type": "code",
      "metadata": {
        "id": "PfJd6E8u1dxv"
      },
      "source": [
        "#First we will import all important libraries : Panda and Numpy.\n",
        "#\n",
        "import pandas as pd #For optimum manipulation of large datasets. \n",
        "import numpy as np #For manipulation of numeric array values."
      ],
      "execution_count": 1,
      "outputs": []
    },
    {
      "cell_type": "markdown",
      "metadata": {
        "id": "sjX7AsMWGUWg"
      },
      "source": [
        "# 2.0 Upload the the datasets."
      ]
    },
    {
      "cell_type": "code",
      "metadata": {
        "id": "JhYWwSlqMP46"
      },
      "source": [
        "# Upload the Dataset\n",
        "df = pd.read_csv('/content/Train.csv')"
      ],
      "execution_count": 2,
      "outputs": []
    },
    {
      "cell_type": "code",
      "metadata": {
        "id": "B4arkT49lr_N"
      },
      "source": [
        "# Upload the Dataset definitions\n",
        "Variable_df = pd.read_csv('/content/VariableDefinitions.csv')"
      ],
      "execution_count": null,
      "outputs": []
    },
    {
      "cell_type": "markdown",
      "metadata": {
        "id": "vMCvsTSGGa1N"
      },
      "source": [
        "# 3.0 Preview the data"
      ]
    },
    {
      "cell_type": "code",
      "metadata": {
        "colab": {
          "base_uri": "https://localhost:8080/",
          "height": 330
        },
        "id": "IO3dZWNVMpE4",
        "outputId": "f019a351-5fac-41a7-cc17-802e27f462d3"
      },
      "source": [
        "# Preview the Train.csv Dataset.\n",
        "df.head(5)"
      ],
      "execution_count": 3,
      "outputs": [
        {
          "output_type": "execute_result",
          "data": {
            "text/html": [
              "<div>\n",
              "<style scoped>\n",
              "    .dataframe tbody tr th:only-of-type {\n",
              "        vertical-align: middle;\n",
              "    }\n",
              "\n",
              "    .dataframe tbody tr th {\n",
              "        vertical-align: top;\n",
              "    }\n",
              "\n",
              "    .dataframe thead th {\n",
              "        text-align: right;\n",
              "    }\n",
              "</style>\n",
              "<table border=\"1\" class=\"dataframe\">\n",
              "  <thead>\n",
              "    <tr style=\"text-align: right;\">\n",
              "      <th></th>\n",
              "      <th>country</th>\n",
              "      <th>year</th>\n",
              "      <th>uniqueid</th>\n",
              "      <th>bank_account</th>\n",
              "      <th>location_type</th>\n",
              "      <th>cellphone_access</th>\n",
              "      <th>household_size</th>\n",
              "      <th>age_of_respondent</th>\n",
              "      <th>gender_of_respondent</th>\n",
              "      <th>relationship_with_head</th>\n",
              "      <th>marital_status</th>\n",
              "      <th>education_level</th>\n",
              "      <th>job_type</th>\n",
              "    </tr>\n",
              "  </thead>\n",
              "  <tbody>\n",
              "    <tr>\n",
              "      <th>0</th>\n",
              "      <td>Kenya</td>\n",
              "      <td>2018</td>\n",
              "      <td>uniqueid_1</td>\n",
              "      <td>Yes</td>\n",
              "      <td>Rural</td>\n",
              "      <td>Yes</td>\n",
              "      <td>3</td>\n",
              "      <td>24</td>\n",
              "      <td>Female</td>\n",
              "      <td>Spouse</td>\n",
              "      <td>Married/Living together</td>\n",
              "      <td>Secondary education</td>\n",
              "      <td>Self employed</td>\n",
              "    </tr>\n",
              "    <tr>\n",
              "      <th>1</th>\n",
              "      <td>Kenya</td>\n",
              "      <td>2018</td>\n",
              "      <td>uniqueid_2</td>\n",
              "      <td>No</td>\n",
              "      <td>Rural</td>\n",
              "      <td>No</td>\n",
              "      <td>5</td>\n",
              "      <td>70</td>\n",
              "      <td>Female</td>\n",
              "      <td>Head of Household</td>\n",
              "      <td>Widowed</td>\n",
              "      <td>No formal education</td>\n",
              "      <td>Government Dependent</td>\n",
              "    </tr>\n",
              "    <tr>\n",
              "      <th>2</th>\n",
              "      <td>Kenya</td>\n",
              "      <td>2018</td>\n",
              "      <td>uniqueid_3</td>\n",
              "      <td>Yes</td>\n",
              "      <td>Urban</td>\n",
              "      <td>Yes</td>\n",
              "      <td>5</td>\n",
              "      <td>26</td>\n",
              "      <td>Male</td>\n",
              "      <td>Other relative</td>\n",
              "      <td>Single/Never Married</td>\n",
              "      <td>Vocational/Specialised training</td>\n",
              "      <td>Self employed</td>\n",
              "    </tr>\n",
              "    <tr>\n",
              "      <th>3</th>\n",
              "      <td>Kenya</td>\n",
              "      <td>2018</td>\n",
              "      <td>uniqueid_4</td>\n",
              "      <td>No</td>\n",
              "      <td>Rural</td>\n",
              "      <td>Yes</td>\n",
              "      <td>5</td>\n",
              "      <td>34</td>\n",
              "      <td>Female</td>\n",
              "      <td>Head of Household</td>\n",
              "      <td>Married/Living together</td>\n",
              "      <td>Primary education</td>\n",
              "      <td>Formally employed Private</td>\n",
              "    </tr>\n",
              "    <tr>\n",
              "      <th>4</th>\n",
              "      <td>Kenya</td>\n",
              "      <td>2018</td>\n",
              "      <td>uniqueid_5</td>\n",
              "      <td>No</td>\n",
              "      <td>Urban</td>\n",
              "      <td>No</td>\n",
              "      <td>8</td>\n",
              "      <td>26</td>\n",
              "      <td>Male</td>\n",
              "      <td>Child</td>\n",
              "      <td>Single/Never Married</td>\n",
              "      <td>Primary education</td>\n",
              "      <td>Informally employed</td>\n",
              "    </tr>\n",
              "  </tbody>\n",
              "</table>\n",
              "</div>"
            ],
            "text/plain": [
              "  country  year  ...                  education_level                   job_type\n",
              "0   Kenya  2018  ...              Secondary education              Self employed\n",
              "1   Kenya  2018  ...              No formal education       Government Dependent\n",
              "2   Kenya  2018  ...  Vocational/Specialised training              Self employed\n",
              "3   Kenya  2018  ...                Primary education  Formally employed Private\n",
              "4   Kenya  2018  ...                Primary education        Informally employed\n",
              "\n",
              "[5 rows x 13 columns]"
            ]
          },
          "metadata": {},
          "execution_count": 3
        }
      ]
    },
    {
      "cell_type": "code",
      "metadata": {
        "colab": {
          "base_uri": "https://localhost:8080/",
          "height": 425
        },
        "id": "iVNDTEVLmv_u",
        "outputId": "b8d56227-28c2-442d-8710-d160246e1fe9"
      },
      "source": [
        "#Preview the Variable Definitions csv.\n",
        "# pd.read_('/content/VariableDefinitions.csv')\n",
        "Variable_df"
      ],
      "execution_count": null,
      "outputs": [
        {
          "output_type": "execute_result",
          "data": {
            "text/html": [
              "<div>\n",
              "<style scoped>\n",
              "    .dataframe tbody tr th:only-of-type {\n",
              "        vertical-align: middle;\n",
              "    }\n",
              "\n",
              "    .dataframe tbody tr th {\n",
              "        vertical-align: top;\n",
              "    }\n",
              "\n",
              "    .dataframe thead th {\n",
              "        text-align: right;\n",
              "    }\n",
              "</style>\n",
              "<table border=\"1\" class=\"dataframe\">\n",
              "  <thead>\n",
              "    <tr style=\"text-align: right;\">\n",
              "      <th></th>\n",
              "      <th>Variable Definitions</th>\n",
              "      <th>Unnamed: 1</th>\n",
              "    </tr>\n",
              "  </thead>\n",
              "  <tbody>\n",
              "    <tr>\n",
              "      <th>0</th>\n",
              "      <td>country</td>\n",
              "      <td>Country interviewee is in.</td>\n",
              "    </tr>\n",
              "    <tr>\n",
              "      <th>1</th>\n",
              "      <td>year</td>\n",
              "      <td>Year survey was done in.</td>\n",
              "    </tr>\n",
              "    <tr>\n",
              "      <th>2</th>\n",
              "      <td>uniqueid</td>\n",
              "      <td>Unique identifier for each interviewee</td>\n",
              "    </tr>\n",
              "    <tr>\n",
              "      <th>3</th>\n",
              "      <td>location_type</td>\n",
              "      <td>Type of location: Rural, Urban</td>\n",
              "    </tr>\n",
              "    <tr>\n",
              "      <th>4</th>\n",
              "      <td>cellphone_access</td>\n",
              "      <td>If interviewee has access to a cellphone: Yes, No</td>\n",
              "    </tr>\n",
              "    <tr>\n",
              "      <th>5</th>\n",
              "      <td>household_size</td>\n",
              "      <td>Number of people living in one house</td>\n",
              "    </tr>\n",
              "    <tr>\n",
              "      <th>6</th>\n",
              "      <td>age_of_respondent</td>\n",
              "      <td>The age of the interviewee</td>\n",
              "    </tr>\n",
              "    <tr>\n",
              "      <th>7</th>\n",
              "      <td>gender_of_respondent</td>\n",
              "      <td>Gender of interviewee: Male, Female</td>\n",
              "    </tr>\n",
              "    <tr>\n",
              "      <th>8</th>\n",
              "      <td>relationship_with_head</td>\n",
              "      <td>The interviewee’s relationship with the head o...</td>\n",
              "    </tr>\n",
              "    <tr>\n",
              "      <th>9</th>\n",
              "      <td>marital_status</td>\n",
              "      <td>The martial status of the interviewee: Married...</td>\n",
              "    </tr>\n",
              "    <tr>\n",
              "      <th>10</th>\n",
              "      <td>education_level</td>\n",
              "      <td>Highest level of education: No formal educatio...</td>\n",
              "    </tr>\n",
              "    <tr>\n",
              "      <th>11</th>\n",
              "      <td>job_type</td>\n",
              "      <td>Type of job interviewee has: Farming and Fishi...</td>\n",
              "    </tr>\n",
              "  </tbody>\n",
              "</table>\n",
              "</div>"
            ],
            "text/plain": [
              "      Variable Definitions                                         Unnamed: 1\n",
              "0                  country                         Country interviewee is in.\n",
              "1                     year                           Year survey was done in.\n",
              "2                 uniqueid             Unique identifier for each interviewee\n",
              "3            location_type                     Type of location: Rural, Urban\n",
              "4         cellphone_access  If interviewee has access to a cellphone: Yes, No\n",
              "5           household_size               Number of people living in one house\n",
              "6        age_of_respondent                         The age of the interviewee\n",
              "7     gender_of_respondent                Gender of interviewee: Male, Female\n",
              "8   relationship_with_head  The interviewee’s relationship with the head o...\n",
              "9           marital_status  The martial status of the interviewee: Married...\n",
              "10         education_level  Highest level of education: No formal educatio...\n",
              "11                job_type  Type of job interviewee has: Farming and Fishi..."
            ]
          },
          "metadata": {},
          "execution_count": 6
        }
      ]
    },
    {
      "cell_type": "markdown",
      "metadata": {
        "id": "9KV2TZYCGhoM"
      },
      "source": [
        "# 4.0 Accessing Information about our Dataset"
      ]
    },
    {
      "cell_type": "code",
      "metadata": {
        "colab": {
          "base_uri": "https://localhost:8080/"
        },
        "id": "h2lsaaq4MvWF",
        "outputId": "156e63e8-0ae3-46b9-d78f-eb88ed84872b"
      },
      "source": [
        "# Getting to know more about the dataset by accessing its information\n",
        "\n",
        "print(df.columns)#To identify column names.\n",
        "print(df.shape)#To identify dataframe dimensions.\n",
        "print(df.isnull().sum())#To list the number of null values per column."
      ],
      "execution_count": null,
      "outputs": [
        {
          "output_type": "stream",
          "name": "stdout",
          "text": [
            "Index(['country', 'year', 'bank_account', 'location_type', 'cellphone_access',\n",
            "       'household_size', 'age_of_respondent', 'gender_of_respondent',\n",
            "       'relationship_with_head', 'marital_status', 'education_level',\n",
            "       'job_type'],\n",
            "      dtype='object')\n",
            "(23524, 12)\n",
            "country                   0\n",
            "year                      0\n",
            "bank_account              0\n",
            "location_type             0\n",
            "cellphone_access          0\n",
            "household_size            0\n",
            "age_of_respondent         0\n",
            "gender_of_respondent      0\n",
            "relationship_with_head    0\n",
            "marital_status            0\n",
            "education_level           0\n",
            "job_type                  0\n",
            "dtype: int64\n"
          ]
        }
      ]
    },
    {
      "cell_type": "markdown",
      "metadata": {
        "id": "B56Uc0MbOqZG"
      },
      "source": [
        "# 5.0 Data Cleaning\n",
        "\n",
        "\n",
        "\n"
      ]
    },
    {
      "cell_type": "markdown",
      "metadata": {
        "id": "kiWH5pt1J_me"
      },
      "source": [
        "## Checking if column names match with variable definitions csv"
      ]
    },
    {
      "cell_type": "code",
      "metadata": {
        "colab": {
          "base_uri": "https://localhost:8080/"
        },
        "id": "jqnr_zXwKN9I",
        "outputId": "f84d9fd8-b1fa-4a52-bd27-8e20c8d020e1"
      },
      "source": [
        "Variable_df['Variable Definitions']"
      ],
      "execution_count": null,
      "outputs": [
        {
          "output_type": "execute_result",
          "data": {
            "text/plain": [
              "0                    country\n",
              "1                       year\n",
              "2                   uniqueid\n",
              "3              location_type\n",
              "4           cellphone_access\n",
              "5             household_size\n",
              "6          age_of_respondent\n",
              "7       gender_of_respondent\n",
              "8     relationship_with_head\n",
              "9             marital_status\n",
              "10           education_level\n",
              "11                  job_type\n",
              "Name: Variable Definitions, dtype: object"
            ]
          },
          "metadata": {},
          "execution_count": 36
        }
      ]
    },
    {
      "cell_type": "code",
      "metadata": {
        "colab": {
          "base_uri": "https://localhost:8080/"
        },
        "id": "pWo27M4vKylC",
        "outputId": "173c09d6-9c37-42fc-ff84-df679ec1372e"
      },
      "source": [
        "df.columns"
      ],
      "execution_count": null,
      "outputs": [
        {
          "output_type": "execute_result",
          "data": {
            "text/plain": [
              "Index(['country', 'year', 'uniqueid', 'bank_account', 'location_type',\n",
              "       'cellphone_access', 'household_size', 'age_of_respondent',\n",
              "       'gender_of_respondent', 'relationship_with_head', 'marital_status',\n",
              "       'education_level', 'job_type'],\n",
              "      dtype='object')"
            ]
          },
          "metadata": {},
          "execution_count": 9
        }
      ]
    },
    {
      "cell_type": "markdown",
      "metadata": {
        "id": "PWIktgSOobqM"
      },
      "source": [
        "## 5.01 Splitting columns"
      ]
    },
    {
      "cell_type": "code",
      "metadata": {
        "id": "7sKOwvTSPoaC"
      },
      "source": [
        "\n",
        "# Splitting the column 'marital_status' into\n",
        "# marital status and living conditions.\n",
        "#This was because the column contained more than one categorical values and caused clustering.\n",
        "df[['marital_status','living_condition']] = df['marital_status'].str.split('/',expand=True)\n"
      ],
      "execution_count": 4,
      "outputs": []
    },
    {
      "cell_type": "code",
      "metadata": {
        "colab": {
          "base_uri": "https://localhost:8080/",
          "height": 330
        },
        "id": "osWp3gOJSu8R",
        "outputId": "10f4f89d-5796-4bf8-aca1-651702bced50"
      },
      "source": [
        "#Checking changes\n",
        "df.head()"
      ],
      "execution_count": 5,
      "outputs": [
        {
          "output_type": "execute_result",
          "data": {
            "text/html": [
              "<div>\n",
              "<style scoped>\n",
              "    .dataframe tbody tr th:only-of-type {\n",
              "        vertical-align: middle;\n",
              "    }\n",
              "\n",
              "    .dataframe tbody tr th {\n",
              "        vertical-align: top;\n",
              "    }\n",
              "\n",
              "    .dataframe thead th {\n",
              "        text-align: right;\n",
              "    }\n",
              "</style>\n",
              "<table border=\"1\" class=\"dataframe\">\n",
              "  <thead>\n",
              "    <tr style=\"text-align: right;\">\n",
              "      <th></th>\n",
              "      <th>country</th>\n",
              "      <th>year</th>\n",
              "      <th>uniqueid</th>\n",
              "      <th>bank_account</th>\n",
              "      <th>location_type</th>\n",
              "      <th>cellphone_access</th>\n",
              "      <th>household_size</th>\n",
              "      <th>age_of_respondent</th>\n",
              "      <th>gender_of_respondent</th>\n",
              "      <th>relationship_with_head</th>\n",
              "      <th>marital_status</th>\n",
              "      <th>education_level</th>\n",
              "      <th>job_type</th>\n",
              "      <th>living_condition</th>\n",
              "    </tr>\n",
              "  </thead>\n",
              "  <tbody>\n",
              "    <tr>\n",
              "      <th>0</th>\n",
              "      <td>Kenya</td>\n",
              "      <td>2018</td>\n",
              "      <td>uniqueid_1</td>\n",
              "      <td>Yes</td>\n",
              "      <td>Rural</td>\n",
              "      <td>Yes</td>\n",
              "      <td>3</td>\n",
              "      <td>24</td>\n",
              "      <td>Female</td>\n",
              "      <td>Spouse</td>\n",
              "      <td>Married</td>\n",
              "      <td>Secondary education</td>\n",
              "      <td>Self employed</td>\n",
              "      <td>Living together</td>\n",
              "    </tr>\n",
              "    <tr>\n",
              "      <th>1</th>\n",
              "      <td>Kenya</td>\n",
              "      <td>2018</td>\n",
              "      <td>uniqueid_2</td>\n",
              "      <td>No</td>\n",
              "      <td>Rural</td>\n",
              "      <td>No</td>\n",
              "      <td>5</td>\n",
              "      <td>70</td>\n",
              "      <td>Female</td>\n",
              "      <td>Head of Household</td>\n",
              "      <td>Widowed</td>\n",
              "      <td>No formal education</td>\n",
              "      <td>Government Dependent</td>\n",
              "      <td>None</td>\n",
              "    </tr>\n",
              "    <tr>\n",
              "      <th>2</th>\n",
              "      <td>Kenya</td>\n",
              "      <td>2018</td>\n",
              "      <td>uniqueid_3</td>\n",
              "      <td>Yes</td>\n",
              "      <td>Urban</td>\n",
              "      <td>Yes</td>\n",
              "      <td>5</td>\n",
              "      <td>26</td>\n",
              "      <td>Male</td>\n",
              "      <td>Other relative</td>\n",
              "      <td>Single</td>\n",
              "      <td>Vocational/Specialised training</td>\n",
              "      <td>Self employed</td>\n",
              "      <td>Never Married</td>\n",
              "    </tr>\n",
              "    <tr>\n",
              "      <th>3</th>\n",
              "      <td>Kenya</td>\n",
              "      <td>2018</td>\n",
              "      <td>uniqueid_4</td>\n",
              "      <td>No</td>\n",
              "      <td>Rural</td>\n",
              "      <td>Yes</td>\n",
              "      <td>5</td>\n",
              "      <td>34</td>\n",
              "      <td>Female</td>\n",
              "      <td>Head of Household</td>\n",
              "      <td>Married</td>\n",
              "      <td>Primary education</td>\n",
              "      <td>Formally employed Private</td>\n",
              "      <td>Living together</td>\n",
              "    </tr>\n",
              "    <tr>\n",
              "      <th>4</th>\n",
              "      <td>Kenya</td>\n",
              "      <td>2018</td>\n",
              "      <td>uniqueid_5</td>\n",
              "      <td>No</td>\n",
              "      <td>Urban</td>\n",
              "      <td>No</td>\n",
              "      <td>8</td>\n",
              "      <td>26</td>\n",
              "      <td>Male</td>\n",
              "      <td>Child</td>\n",
              "      <td>Single</td>\n",
              "      <td>Primary education</td>\n",
              "      <td>Informally employed</td>\n",
              "      <td>Never Married</td>\n",
              "    </tr>\n",
              "  </tbody>\n",
              "</table>\n",
              "</div>"
            ],
            "text/plain": [
              "  country  year  ...                   job_type living_condition\n",
              "0   Kenya  2018  ...              Self employed  Living together\n",
              "1   Kenya  2018  ...       Government Dependent             None\n",
              "2   Kenya  2018  ...              Self employed    Never Married\n",
              "3   Kenya  2018  ...  Formally employed Private  Living together\n",
              "4   Kenya  2018  ...        Informally employed    Never Married\n",
              "\n",
              "[5 rows x 14 columns]"
            ]
          },
          "metadata": {},
          "execution_count": 5
        }
      ]
    },
    {
      "cell_type": "markdown",
      "metadata": {
        "id": "GojVhTo6ryxa"
      },
      "source": [
        "## 5.02 Create a Head of household column"
      ]
    },
    {
      "cell_type": "code",
      "metadata": {
        "colab": {
          "base_uri": "https://localhost:8080/",
          "height": 617
        },
        "id": "lcnnk261jgso",
        "outputId": "34edc945-7d9a-4aee-a387-a15ee95a83a3"
      },
      "source": [
        "#Create a new column 'head_of_household'\n",
        "#This column would identify whether the respondent was the head of the household or not.  \n",
        "#Make'head_of_household' with True='Yes' and False='No'\n",
        "df['head_of_household'] = df.loc[:, 'relationship_with_head']\n",
        "df['head_of_household'].replace('Head of Household','Yes', inplace=True)\n",
        "df['head_of_household'].replace(to_replace=('Spouse','Other relative','Child','Parent' ,'Other non-relatives', 'Dont Know' ,'Spouse' ) , value='No' , inplace =True)\n",
        "df"
      ],
      "execution_count": 6,
      "outputs": [
        {
          "output_type": "execute_result",
          "data": {
            "text/html": [
              "<div>\n",
              "<style scoped>\n",
              "    .dataframe tbody tr th:only-of-type {\n",
              "        vertical-align: middle;\n",
              "    }\n",
              "\n",
              "    .dataframe tbody tr th {\n",
              "        vertical-align: top;\n",
              "    }\n",
              "\n",
              "    .dataframe thead th {\n",
              "        text-align: right;\n",
              "    }\n",
              "</style>\n",
              "<table border=\"1\" class=\"dataframe\">\n",
              "  <thead>\n",
              "    <tr style=\"text-align: right;\">\n",
              "      <th></th>\n",
              "      <th>country</th>\n",
              "      <th>year</th>\n",
              "      <th>uniqueid</th>\n",
              "      <th>bank_account</th>\n",
              "      <th>location_type</th>\n",
              "      <th>cellphone_access</th>\n",
              "      <th>household_size</th>\n",
              "      <th>age_of_respondent</th>\n",
              "      <th>gender_of_respondent</th>\n",
              "      <th>relationship_with_head</th>\n",
              "      <th>marital_status</th>\n",
              "      <th>education_level</th>\n",
              "      <th>job_type</th>\n",
              "      <th>living_condition</th>\n",
              "      <th>head_of_household</th>\n",
              "    </tr>\n",
              "  </thead>\n",
              "  <tbody>\n",
              "    <tr>\n",
              "      <th>0</th>\n",
              "      <td>Kenya</td>\n",
              "      <td>2018</td>\n",
              "      <td>uniqueid_1</td>\n",
              "      <td>Yes</td>\n",
              "      <td>Rural</td>\n",
              "      <td>Yes</td>\n",
              "      <td>3</td>\n",
              "      <td>24</td>\n",
              "      <td>Female</td>\n",
              "      <td>Spouse</td>\n",
              "      <td>Married</td>\n",
              "      <td>Secondary education</td>\n",
              "      <td>Self employed</td>\n",
              "      <td>Living together</td>\n",
              "      <td>No</td>\n",
              "    </tr>\n",
              "    <tr>\n",
              "      <th>1</th>\n",
              "      <td>Kenya</td>\n",
              "      <td>2018</td>\n",
              "      <td>uniqueid_2</td>\n",
              "      <td>No</td>\n",
              "      <td>Rural</td>\n",
              "      <td>No</td>\n",
              "      <td>5</td>\n",
              "      <td>70</td>\n",
              "      <td>Female</td>\n",
              "      <td>Head of Household</td>\n",
              "      <td>Widowed</td>\n",
              "      <td>No formal education</td>\n",
              "      <td>Government Dependent</td>\n",
              "      <td>None</td>\n",
              "      <td>Yes</td>\n",
              "    </tr>\n",
              "    <tr>\n",
              "      <th>2</th>\n",
              "      <td>Kenya</td>\n",
              "      <td>2018</td>\n",
              "      <td>uniqueid_3</td>\n",
              "      <td>Yes</td>\n",
              "      <td>Urban</td>\n",
              "      <td>Yes</td>\n",
              "      <td>5</td>\n",
              "      <td>26</td>\n",
              "      <td>Male</td>\n",
              "      <td>Other relative</td>\n",
              "      <td>Single</td>\n",
              "      <td>Vocational/Specialised training</td>\n",
              "      <td>Self employed</td>\n",
              "      <td>Never Married</td>\n",
              "      <td>No</td>\n",
              "    </tr>\n",
              "    <tr>\n",
              "      <th>3</th>\n",
              "      <td>Kenya</td>\n",
              "      <td>2018</td>\n",
              "      <td>uniqueid_4</td>\n",
              "      <td>No</td>\n",
              "      <td>Rural</td>\n",
              "      <td>Yes</td>\n",
              "      <td>5</td>\n",
              "      <td>34</td>\n",
              "      <td>Female</td>\n",
              "      <td>Head of Household</td>\n",
              "      <td>Married</td>\n",
              "      <td>Primary education</td>\n",
              "      <td>Formally employed Private</td>\n",
              "      <td>Living together</td>\n",
              "      <td>Yes</td>\n",
              "    </tr>\n",
              "    <tr>\n",
              "      <th>4</th>\n",
              "      <td>Kenya</td>\n",
              "      <td>2018</td>\n",
              "      <td>uniqueid_5</td>\n",
              "      <td>No</td>\n",
              "      <td>Urban</td>\n",
              "      <td>No</td>\n",
              "      <td>8</td>\n",
              "      <td>26</td>\n",
              "      <td>Male</td>\n",
              "      <td>Child</td>\n",
              "      <td>Single</td>\n",
              "      <td>Primary education</td>\n",
              "      <td>Informally employed</td>\n",
              "      <td>Never Married</td>\n",
              "      <td>No</td>\n",
              "    </tr>\n",
              "    <tr>\n",
              "      <th>...</th>\n",
              "      <td>...</td>\n",
              "      <td>...</td>\n",
              "      <td>...</td>\n",
              "      <td>...</td>\n",
              "      <td>...</td>\n",
              "      <td>...</td>\n",
              "      <td>...</td>\n",
              "      <td>...</td>\n",
              "      <td>...</td>\n",
              "      <td>...</td>\n",
              "      <td>...</td>\n",
              "      <td>...</td>\n",
              "      <td>...</td>\n",
              "      <td>...</td>\n",
              "      <td>...</td>\n",
              "    </tr>\n",
              "    <tr>\n",
              "      <th>23519</th>\n",
              "      <td>Uganda</td>\n",
              "      <td>2018</td>\n",
              "      <td>uniqueid_2113</td>\n",
              "      <td>No</td>\n",
              "      <td>Rural</td>\n",
              "      <td>Yes</td>\n",
              "      <td>4</td>\n",
              "      <td>48</td>\n",
              "      <td>Female</td>\n",
              "      <td>Head of Household</td>\n",
              "      <td>Divorced</td>\n",
              "      <td>No formal education</td>\n",
              "      <td>Other Income</td>\n",
              "      <td>Seperated</td>\n",
              "      <td>Yes</td>\n",
              "    </tr>\n",
              "    <tr>\n",
              "      <th>23520</th>\n",
              "      <td>Uganda</td>\n",
              "      <td>2018</td>\n",
              "      <td>uniqueid_2114</td>\n",
              "      <td>No</td>\n",
              "      <td>Rural</td>\n",
              "      <td>Yes</td>\n",
              "      <td>2</td>\n",
              "      <td>27</td>\n",
              "      <td>Female</td>\n",
              "      <td>Head of Household</td>\n",
              "      <td>Single</td>\n",
              "      <td>Secondary education</td>\n",
              "      <td>Other Income</td>\n",
              "      <td>Never Married</td>\n",
              "      <td>Yes</td>\n",
              "    </tr>\n",
              "    <tr>\n",
              "      <th>23521</th>\n",
              "      <td>Uganda</td>\n",
              "      <td>2018</td>\n",
              "      <td>uniqueid_2115</td>\n",
              "      <td>No</td>\n",
              "      <td>Rural</td>\n",
              "      <td>Yes</td>\n",
              "      <td>5</td>\n",
              "      <td>27</td>\n",
              "      <td>Female</td>\n",
              "      <td>Parent</td>\n",
              "      <td>Widowed</td>\n",
              "      <td>Primary education</td>\n",
              "      <td>Other Income</td>\n",
              "      <td>None</td>\n",
              "      <td>No</td>\n",
              "    </tr>\n",
              "    <tr>\n",
              "      <th>23522</th>\n",
              "      <td>Uganda</td>\n",
              "      <td>2018</td>\n",
              "      <td>uniqueid_2116</td>\n",
              "      <td>No</td>\n",
              "      <td>Urban</td>\n",
              "      <td>Yes</td>\n",
              "      <td>7</td>\n",
              "      <td>30</td>\n",
              "      <td>Female</td>\n",
              "      <td>Parent</td>\n",
              "      <td>Divorced</td>\n",
              "      <td>Secondary education</td>\n",
              "      <td>Self employed</td>\n",
              "      <td>Seperated</td>\n",
              "      <td>No</td>\n",
              "    </tr>\n",
              "    <tr>\n",
              "      <th>23523</th>\n",
              "      <td>Uganda</td>\n",
              "      <td>2018</td>\n",
              "      <td>uniqueid_2117</td>\n",
              "      <td>No</td>\n",
              "      <td>Rural</td>\n",
              "      <td>Yes</td>\n",
              "      <td>10</td>\n",
              "      <td>20</td>\n",
              "      <td>Male</td>\n",
              "      <td>Child</td>\n",
              "      <td>Single</td>\n",
              "      <td>Secondary education</td>\n",
              "      <td>No Income</td>\n",
              "      <td>Never Married</td>\n",
              "      <td>No</td>\n",
              "    </tr>\n",
              "  </tbody>\n",
              "</table>\n",
              "<p>23524 rows × 15 columns</p>\n",
              "</div>"
            ],
            "text/plain": [
              "      country  year  ... living_condition head_of_household\n",
              "0       Kenya  2018  ...  Living together                No\n",
              "1       Kenya  2018  ...             None               Yes\n",
              "2       Kenya  2018  ...    Never Married                No\n",
              "3       Kenya  2018  ...  Living together               Yes\n",
              "4       Kenya  2018  ...    Never Married                No\n",
              "...       ...   ...  ...              ...               ...\n",
              "23519  Uganda  2018  ...        Seperated               Yes\n",
              "23520  Uganda  2018  ...    Never Married               Yes\n",
              "23521  Uganda  2018  ...             None                No\n",
              "23522  Uganda  2018  ...        Seperated                No\n",
              "23523  Uganda  2018  ...    Never Married                No\n",
              "\n",
              "[23524 rows x 15 columns]"
            ]
          },
          "metadata": {},
          "execution_count": 6
        }
      ]
    },
    {
      "cell_type": "markdown",
      "metadata": {
        "id": "WnWZOmyfo6Kn"
      },
      "source": [
        "## 5.03 Check for duplicates"
      ]
    },
    {
      "cell_type": "code",
      "metadata": {
        "colab": {
          "base_uri": "https://localhost:8080/"
        },
        "id": "9f52XyTjWujR",
        "outputId": "84653011-bda3-4669-d343-ac3f103a77de"
      },
      "source": [
        "#checking for duplicates\n",
        "df.duplicated().sum()"
      ],
      "execution_count": 7,
      "outputs": [
        {
          "output_type": "execute_result",
          "data": {
            "text/plain": [
              "0"
            ]
          },
          "metadata": {},
          "execution_count": 7
        }
      ]
    },
    {
      "cell_type": "markdown",
      "metadata": {
        "id": "2KR3S8otpXTv"
      },
      "source": [
        "## 5.04 Check for null values"
      ]
    },
    {
      "cell_type": "code",
      "metadata": {
        "colab": {
          "base_uri": "https://localhost:8080/"
        },
        "id": "endHEkZLYh7l",
        "outputId": "33c5a92c-817a-4a82-caa3-aeed2700286e"
      },
      "source": [
        "#Checking for null values ,after creating new columns.\n",
        "df.isnull().sum()"
      ],
      "execution_count": 8,
      "outputs": [
        {
          "output_type": "execute_result",
          "data": {
            "text/plain": [
              "country                      0\n",
              "year                         0\n",
              "uniqueid                     0\n",
              "bank_account                 0\n",
              "location_type                0\n",
              "cellphone_access             0\n",
              "household_size               0\n",
              "age_of_respondent            0\n",
              "gender_of_respondent         0\n",
              "relationship_with_head       0\n",
              "marital_status               0\n",
              "education_level              0\n",
              "job_type                     0\n",
              "living_condition          2716\n",
              "head_of_household            0\n",
              "dtype: int64"
            ]
          },
          "metadata": {},
          "execution_count": 8
        }
      ]
    },
    {
      "cell_type": "markdown",
      "metadata": {
        "id": "EugQ-cYp2ird"
      },
      "source": [
        "## 5.06 Replace null values\n"
      ]
    },
    {
      "cell_type": "code",
      "metadata": {
        "id": "WAzVeo0bhO5q"
      },
      "source": [
        "# To replace null values in living status with the values respective to maritial status column values that were \n",
        "#Either 'Widowed' or 'Dont Know', the null values were replaced with these.\n",
        "\n",
        "df.living_condition.fillna(df.marital_status,inplace=True) \n"
      ],
      "execution_count": 9,
      "outputs": []
    },
    {
      "cell_type": "code",
      "metadata": {
        "colab": {
          "base_uri": "https://localhost:8080/"
        },
        "id": "TS-8hvqI3mko",
        "outputId": "2929770c-0ce1-4d16-be26-bbcd65dc60d6"
      },
      "source": [
        "# To check if null values are replaced\n",
        "df.isnull().sum()"
      ],
      "execution_count": 10,
      "outputs": [
        {
          "output_type": "execute_result",
          "data": {
            "text/plain": [
              "country                   0\n",
              "year                      0\n",
              "uniqueid                  0\n",
              "bank_account              0\n",
              "location_type             0\n",
              "cellphone_access          0\n",
              "household_size            0\n",
              "age_of_respondent         0\n",
              "gender_of_respondent      0\n",
              "relationship_with_head    0\n",
              "marital_status            0\n",
              "education_level           0\n",
              "job_type                  0\n",
              "living_condition          0\n",
              "head_of_household         0\n",
              "dtype: int64"
            ]
          },
          "metadata": {},
          "execution_count": 10
        }
      ]
    },
    {
      "cell_type": "markdown",
      "metadata": {
        "id": "jhGJPR4ksNWt"
      },
      "source": [
        "## 5.07 Drop the Unique id. "
      ]
    },
    {
      "cell_type": "code",
      "metadata": {
        "colab": {
          "base_uri": "https://localhost:8080/",
          "height": 591
        },
        "id": "Vd8aNFOUZJrp",
        "outputId": "21841112-d9df-4b47-8f48-3abe3d2205b3"
      },
      "source": [
        "#Dropping the Unique id column \n",
        "df.drop('uniqueid', axis=1,inplace=True)\n",
        "df.head(10)"
      ],
      "execution_count": 11,
      "outputs": [
        {
          "output_type": "execute_result",
          "data": {
            "text/html": [
              "<div>\n",
              "<style scoped>\n",
              "    .dataframe tbody tr th:only-of-type {\n",
              "        vertical-align: middle;\n",
              "    }\n",
              "\n",
              "    .dataframe tbody tr th {\n",
              "        vertical-align: top;\n",
              "    }\n",
              "\n",
              "    .dataframe thead th {\n",
              "        text-align: right;\n",
              "    }\n",
              "</style>\n",
              "<table border=\"1\" class=\"dataframe\">\n",
              "  <thead>\n",
              "    <tr style=\"text-align: right;\">\n",
              "      <th></th>\n",
              "      <th>country</th>\n",
              "      <th>year</th>\n",
              "      <th>bank_account</th>\n",
              "      <th>location_type</th>\n",
              "      <th>cellphone_access</th>\n",
              "      <th>household_size</th>\n",
              "      <th>age_of_respondent</th>\n",
              "      <th>gender_of_respondent</th>\n",
              "      <th>relationship_with_head</th>\n",
              "      <th>marital_status</th>\n",
              "      <th>education_level</th>\n",
              "      <th>job_type</th>\n",
              "      <th>living_condition</th>\n",
              "      <th>head_of_household</th>\n",
              "    </tr>\n",
              "  </thead>\n",
              "  <tbody>\n",
              "    <tr>\n",
              "      <th>0</th>\n",
              "      <td>Kenya</td>\n",
              "      <td>2018</td>\n",
              "      <td>Yes</td>\n",
              "      <td>Rural</td>\n",
              "      <td>Yes</td>\n",
              "      <td>3</td>\n",
              "      <td>24</td>\n",
              "      <td>Female</td>\n",
              "      <td>Spouse</td>\n",
              "      <td>Married</td>\n",
              "      <td>Secondary education</td>\n",
              "      <td>Self employed</td>\n",
              "      <td>Living together</td>\n",
              "      <td>No</td>\n",
              "    </tr>\n",
              "    <tr>\n",
              "      <th>1</th>\n",
              "      <td>Kenya</td>\n",
              "      <td>2018</td>\n",
              "      <td>No</td>\n",
              "      <td>Rural</td>\n",
              "      <td>No</td>\n",
              "      <td>5</td>\n",
              "      <td>70</td>\n",
              "      <td>Female</td>\n",
              "      <td>Head of Household</td>\n",
              "      <td>Widowed</td>\n",
              "      <td>No formal education</td>\n",
              "      <td>Government Dependent</td>\n",
              "      <td>Widowed</td>\n",
              "      <td>Yes</td>\n",
              "    </tr>\n",
              "    <tr>\n",
              "      <th>2</th>\n",
              "      <td>Kenya</td>\n",
              "      <td>2018</td>\n",
              "      <td>Yes</td>\n",
              "      <td>Urban</td>\n",
              "      <td>Yes</td>\n",
              "      <td>5</td>\n",
              "      <td>26</td>\n",
              "      <td>Male</td>\n",
              "      <td>Other relative</td>\n",
              "      <td>Single</td>\n",
              "      <td>Vocational/Specialised training</td>\n",
              "      <td>Self employed</td>\n",
              "      <td>Never Married</td>\n",
              "      <td>No</td>\n",
              "    </tr>\n",
              "    <tr>\n",
              "      <th>3</th>\n",
              "      <td>Kenya</td>\n",
              "      <td>2018</td>\n",
              "      <td>No</td>\n",
              "      <td>Rural</td>\n",
              "      <td>Yes</td>\n",
              "      <td>5</td>\n",
              "      <td>34</td>\n",
              "      <td>Female</td>\n",
              "      <td>Head of Household</td>\n",
              "      <td>Married</td>\n",
              "      <td>Primary education</td>\n",
              "      <td>Formally employed Private</td>\n",
              "      <td>Living together</td>\n",
              "      <td>Yes</td>\n",
              "    </tr>\n",
              "    <tr>\n",
              "      <th>4</th>\n",
              "      <td>Kenya</td>\n",
              "      <td>2018</td>\n",
              "      <td>No</td>\n",
              "      <td>Urban</td>\n",
              "      <td>No</td>\n",
              "      <td>8</td>\n",
              "      <td>26</td>\n",
              "      <td>Male</td>\n",
              "      <td>Child</td>\n",
              "      <td>Single</td>\n",
              "      <td>Primary education</td>\n",
              "      <td>Informally employed</td>\n",
              "      <td>Never Married</td>\n",
              "      <td>No</td>\n",
              "    </tr>\n",
              "    <tr>\n",
              "      <th>5</th>\n",
              "      <td>Kenya</td>\n",
              "      <td>2018</td>\n",
              "      <td>No</td>\n",
              "      <td>Rural</td>\n",
              "      <td>No</td>\n",
              "      <td>7</td>\n",
              "      <td>26</td>\n",
              "      <td>Female</td>\n",
              "      <td>Spouse</td>\n",
              "      <td>Married</td>\n",
              "      <td>Primary education</td>\n",
              "      <td>Informally employed</td>\n",
              "      <td>Living together</td>\n",
              "      <td>No</td>\n",
              "    </tr>\n",
              "    <tr>\n",
              "      <th>6</th>\n",
              "      <td>Kenya</td>\n",
              "      <td>2018</td>\n",
              "      <td>No</td>\n",
              "      <td>Rural</td>\n",
              "      <td>Yes</td>\n",
              "      <td>7</td>\n",
              "      <td>32</td>\n",
              "      <td>Female</td>\n",
              "      <td>Spouse</td>\n",
              "      <td>Married</td>\n",
              "      <td>Primary education</td>\n",
              "      <td>Self employed</td>\n",
              "      <td>Living together</td>\n",
              "      <td>No</td>\n",
              "    </tr>\n",
              "    <tr>\n",
              "      <th>7</th>\n",
              "      <td>Kenya</td>\n",
              "      <td>2018</td>\n",
              "      <td>No</td>\n",
              "      <td>Rural</td>\n",
              "      <td>Yes</td>\n",
              "      <td>1</td>\n",
              "      <td>42</td>\n",
              "      <td>Female</td>\n",
              "      <td>Head of Household</td>\n",
              "      <td>Married</td>\n",
              "      <td>Tertiary education</td>\n",
              "      <td>Formally employed Government</td>\n",
              "      <td>Living together</td>\n",
              "      <td>Yes</td>\n",
              "    </tr>\n",
              "    <tr>\n",
              "      <th>8</th>\n",
              "      <td>Kenya</td>\n",
              "      <td>2018</td>\n",
              "      <td>Yes</td>\n",
              "      <td>Rural</td>\n",
              "      <td>Yes</td>\n",
              "      <td>3</td>\n",
              "      <td>54</td>\n",
              "      <td>Male</td>\n",
              "      <td>Head of Household</td>\n",
              "      <td>Married</td>\n",
              "      <td>Secondary education</td>\n",
              "      <td>Farming and Fishing</td>\n",
              "      <td>Living together</td>\n",
              "      <td>Yes</td>\n",
              "    </tr>\n",
              "    <tr>\n",
              "      <th>9</th>\n",
              "      <td>Kenya</td>\n",
              "      <td>2018</td>\n",
              "      <td>No</td>\n",
              "      <td>Urban</td>\n",
              "      <td>Yes</td>\n",
              "      <td>3</td>\n",
              "      <td>76</td>\n",
              "      <td>Female</td>\n",
              "      <td>Head of Household</td>\n",
              "      <td>Divorced</td>\n",
              "      <td>No formal education</td>\n",
              "      <td>Remittance Dependent</td>\n",
              "      <td>Seperated</td>\n",
              "      <td>Yes</td>\n",
              "    </tr>\n",
              "  </tbody>\n",
              "</table>\n",
              "</div>"
            ],
            "text/plain": [
              "  country  year  ... living_condition head_of_household\n",
              "0   Kenya  2018  ...  Living together                No\n",
              "1   Kenya  2018  ...          Widowed               Yes\n",
              "2   Kenya  2018  ...    Never Married                No\n",
              "3   Kenya  2018  ...  Living together               Yes\n",
              "4   Kenya  2018  ...    Never Married                No\n",
              "5   Kenya  2018  ...  Living together                No\n",
              "6   Kenya  2018  ...  Living together                No\n",
              "7   Kenya  2018  ...  Living together               Yes\n",
              "8   Kenya  2018  ...  Living together               Yes\n",
              "9   Kenya  2018  ...        Seperated               Yes\n",
              "\n",
              "[10 rows x 14 columns]"
            ]
          },
          "metadata": {},
          "execution_count": 11
        }
      ]
    },
    {
      "cell_type": "markdown",
      "metadata": {
        "id": "nEqD_VyDOQJv"
      },
      "source": [
        "## 5.08 Checking and aligning column datatypes"
      ]
    },
    {
      "cell_type": "code",
      "metadata": {
        "colab": {
          "base_uri": "https://localhost:8080/"
        },
        "id": "b5DgcTjOOYwY",
        "outputId": "af94b7a9-4c61-4a40-ca9a-09435a149ac5"
      },
      "source": [
        "#Checking column datatypes\n",
        "df.dtypes"
      ],
      "execution_count": 12,
      "outputs": [
        {
          "output_type": "execute_result",
          "data": {
            "text/plain": [
              "country                   object\n",
              "year                       int64\n",
              "bank_account              object\n",
              "location_type             object\n",
              "cellphone_access          object\n",
              "household_size             int64\n",
              "age_of_respondent          int64\n",
              "gender_of_respondent      object\n",
              "relationship_with_head    object\n",
              "marital_status            object\n",
              "education_level           object\n",
              "job_type                  object\n",
              "living_condition          object\n",
              "head_of_household         object\n",
              "dtype: object"
            ]
          },
          "metadata": {},
          "execution_count": 12
        }
      ]
    },
    {
      "cell_type": "code",
      "metadata": {
        "id": "H1-UezE3PMSV",
        "colab": {
          "base_uri": "https://localhost:8080/"
        },
        "outputId": "5b8b1962-e198-448a-c6f4-5b135f36e6f2"
      },
      "source": [
        "#Converting the Yes/No value columns into string datatypes\n",
        "#As well as converting the year column to datetime datatype\n",
        "#\n",
        "convert_dict = {'bank_account': str,'cellphone_access': str ,'head_of_household': str}\n",
        "df = df.astype(convert_dict)\n",
        "df['year']=pd.to_datetime(df['year'])\n",
        "df.dtypes"
      ],
      "execution_count": 20,
      "outputs": [
        {
          "output_type": "execute_result",
          "data": {
            "text/plain": [
              "country                           object\n",
              "year                      datetime64[ns]\n",
              "bank_account                      object\n",
              "location_type                     object\n",
              "cellphone_access                  object\n",
              "household_size                     int64\n",
              "age_of_respondent                  int64\n",
              "gender_of_respondent              object\n",
              "relationship_with_head            object\n",
              "marital_status                    object\n",
              "education_level                   object\n",
              "job_type                          object\n",
              "living_condition                  object\n",
              "head_of_household                 object\n",
              "dtype: object"
            ]
          },
          "metadata": {},
          "execution_count": 20
        }
      ]
    },
    {
      "cell_type": "code",
      "metadata": {
        "colab": {
          "base_uri": "https://localhost:8080/",
          "height": 635
        },
        "id": "wlHHCODceW4m",
        "outputId": "d6eef466-d799-4914-c0a8-8e5090903194"
      },
      "source": [
        "df"
      ],
      "execution_count": 21,
      "outputs": [
        {
          "output_type": "execute_result",
          "data": {
            "text/html": [
              "<div>\n",
              "<style scoped>\n",
              "    .dataframe tbody tr th:only-of-type {\n",
              "        vertical-align: middle;\n",
              "    }\n",
              "\n",
              "    .dataframe tbody tr th {\n",
              "        vertical-align: top;\n",
              "    }\n",
              "\n",
              "    .dataframe thead th {\n",
              "        text-align: right;\n",
              "    }\n",
              "</style>\n",
              "<table border=\"1\" class=\"dataframe\">\n",
              "  <thead>\n",
              "    <tr style=\"text-align: right;\">\n",
              "      <th></th>\n",
              "      <th>country</th>\n",
              "      <th>year</th>\n",
              "      <th>bank_account</th>\n",
              "      <th>location_type</th>\n",
              "      <th>cellphone_access</th>\n",
              "      <th>household_size</th>\n",
              "      <th>age_of_respondent</th>\n",
              "      <th>gender_of_respondent</th>\n",
              "      <th>relationship_with_head</th>\n",
              "      <th>marital_status</th>\n",
              "      <th>education_level</th>\n",
              "      <th>job_type</th>\n",
              "      <th>living_condition</th>\n",
              "      <th>head_of_household</th>\n",
              "    </tr>\n",
              "  </thead>\n",
              "  <tbody>\n",
              "    <tr>\n",
              "      <th>0</th>\n",
              "      <td>Kenya</td>\n",
              "      <td>1970-01-01 00:00:00.000002018</td>\n",
              "      <td>Yes</td>\n",
              "      <td>Rural</td>\n",
              "      <td>Yes</td>\n",
              "      <td>3</td>\n",
              "      <td>24</td>\n",
              "      <td>Female</td>\n",
              "      <td>Spouse</td>\n",
              "      <td>Married</td>\n",
              "      <td>Secondary education</td>\n",
              "      <td>Self employed</td>\n",
              "      <td>Living together</td>\n",
              "      <td>No</td>\n",
              "    </tr>\n",
              "    <tr>\n",
              "      <th>1</th>\n",
              "      <td>Kenya</td>\n",
              "      <td>1970-01-01 00:00:00.000002018</td>\n",
              "      <td>No</td>\n",
              "      <td>Rural</td>\n",
              "      <td>No</td>\n",
              "      <td>5</td>\n",
              "      <td>70</td>\n",
              "      <td>Female</td>\n",
              "      <td>Head of Household</td>\n",
              "      <td>Widowed</td>\n",
              "      <td>No formal education</td>\n",
              "      <td>Government Dependent</td>\n",
              "      <td>Widowed</td>\n",
              "      <td>Yes</td>\n",
              "    </tr>\n",
              "    <tr>\n",
              "      <th>2</th>\n",
              "      <td>Kenya</td>\n",
              "      <td>1970-01-01 00:00:00.000002018</td>\n",
              "      <td>Yes</td>\n",
              "      <td>Urban</td>\n",
              "      <td>Yes</td>\n",
              "      <td>5</td>\n",
              "      <td>26</td>\n",
              "      <td>Male</td>\n",
              "      <td>Other relative</td>\n",
              "      <td>Single</td>\n",
              "      <td>Vocational/Specialised training</td>\n",
              "      <td>Self employed</td>\n",
              "      <td>Never Married</td>\n",
              "      <td>No</td>\n",
              "    </tr>\n",
              "    <tr>\n",
              "      <th>3</th>\n",
              "      <td>Kenya</td>\n",
              "      <td>1970-01-01 00:00:00.000002018</td>\n",
              "      <td>No</td>\n",
              "      <td>Rural</td>\n",
              "      <td>Yes</td>\n",
              "      <td>5</td>\n",
              "      <td>34</td>\n",
              "      <td>Female</td>\n",
              "      <td>Head of Household</td>\n",
              "      <td>Married</td>\n",
              "      <td>Primary education</td>\n",
              "      <td>Formally employed Private</td>\n",
              "      <td>Living together</td>\n",
              "      <td>Yes</td>\n",
              "    </tr>\n",
              "    <tr>\n",
              "      <th>4</th>\n",
              "      <td>Kenya</td>\n",
              "      <td>1970-01-01 00:00:00.000002018</td>\n",
              "      <td>No</td>\n",
              "      <td>Urban</td>\n",
              "      <td>No</td>\n",
              "      <td>8</td>\n",
              "      <td>26</td>\n",
              "      <td>Male</td>\n",
              "      <td>Child</td>\n",
              "      <td>Single</td>\n",
              "      <td>Primary education</td>\n",
              "      <td>Informally employed</td>\n",
              "      <td>Never Married</td>\n",
              "      <td>No</td>\n",
              "    </tr>\n",
              "    <tr>\n",
              "      <th>...</th>\n",
              "      <td>...</td>\n",
              "      <td>...</td>\n",
              "      <td>...</td>\n",
              "      <td>...</td>\n",
              "      <td>...</td>\n",
              "      <td>...</td>\n",
              "      <td>...</td>\n",
              "      <td>...</td>\n",
              "      <td>...</td>\n",
              "      <td>...</td>\n",
              "      <td>...</td>\n",
              "      <td>...</td>\n",
              "      <td>...</td>\n",
              "      <td>...</td>\n",
              "    </tr>\n",
              "    <tr>\n",
              "      <th>23519</th>\n",
              "      <td>Uganda</td>\n",
              "      <td>1970-01-01 00:00:00.000002018</td>\n",
              "      <td>No</td>\n",
              "      <td>Rural</td>\n",
              "      <td>Yes</td>\n",
              "      <td>4</td>\n",
              "      <td>48</td>\n",
              "      <td>Female</td>\n",
              "      <td>Head of Household</td>\n",
              "      <td>Divorced</td>\n",
              "      <td>No formal education</td>\n",
              "      <td>Other Income</td>\n",
              "      <td>Seperated</td>\n",
              "      <td>Yes</td>\n",
              "    </tr>\n",
              "    <tr>\n",
              "      <th>23520</th>\n",
              "      <td>Uganda</td>\n",
              "      <td>1970-01-01 00:00:00.000002018</td>\n",
              "      <td>No</td>\n",
              "      <td>Rural</td>\n",
              "      <td>Yes</td>\n",
              "      <td>2</td>\n",
              "      <td>27</td>\n",
              "      <td>Female</td>\n",
              "      <td>Head of Household</td>\n",
              "      <td>Single</td>\n",
              "      <td>Secondary education</td>\n",
              "      <td>Other Income</td>\n",
              "      <td>Never Married</td>\n",
              "      <td>Yes</td>\n",
              "    </tr>\n",
              "    <tr>\n",
              "      <th>23521</th>\n",
              "      <td>Uganda</td>\n",
              "      <td>1970-01-01 00:00:00.000002018</td>\n",
              "      <td>No</td>\n",
              "      <td>Rural</td>\n",
              "      <td>Yes</td>\n",
              "      <td>5</td>\n",
              "      <td>27</td>\n",
              "      <td>Female</td>\n",
              "      <td>Parent</td>\n",
              "      <td>Widowed</td>\n",
              "      <td>Primary education</td>\n",
              "      <td>Other Income</td>\n",
              "      <td>Widowed</td>\n",
              "      <td>No</td>\n",
              "    </tr>\n",
              "    <tr>\n",
              "      <th>23522</th>\n",
              "      <td>Uganda</td>\n",
              "      <td>1970-01-01 00:00:00.000002018</td>\n",
              "      <td>No</td>\n",
              "      <td>Urban</td>\n",
              "      <td>Yes</td>\n",
              "      <td>7</td>\n",
              "      <td>30</td>\n",
              "      <td>Female</td>\n",
              "      <td>Parent</td>\n",
              "      <td>Divorced</td>\n",
              "      <td>Secondary education</td>\n",
              "      <td>Self employed</td>\n",
              "      <td>Seperated</td>\n",
              "      <td>No</td>\n",
              "    </tr>\n",
              "    <tr>\n",
              "      <th>23523</th>\n",
              "      <td>Uganda</td>\n",
              "      <td>1970-01-01 00:00:00.000002018</td>\n",
              "      <td>No</td>\n",
              "      <td>Rural</td>\n",
              "      <td>Yes</td>\n",
              "      <td>10</td>\n",
              "      <td>20</td>\n",
              "      <td>Male</td>\n",
              "      <td>Child</td>\n",
              "      <td>Single</td>\n",
              "      <td>Secondary education</td>\n",
              "      <td>No Income</td>\n",
              "      <td>Never Married</td>\n",
              "      <td>No</td>\n",
              "    </tr>\n",
              "  </tbody>\n",
              "</table>\n",
              "<p>23524 rows × 14 columns</p>\n",
              "</div>"
            ],
            "text/plain": [
              "      country                          year  ... living_condition head_of_household\n",
              "0       Kenya 1970-01-01 00:00:00.000002018  ...  Living together                No\n",
              "1       Kenya 1970-01-01 00:00:00.000002018  ...          Widowed               Yes\n",
              "2       Kenya 1970-01-01 00:00:00.000002018  ...    Never Married                No\n",
              "3       Kenya 1970-01-01 00:00:00.000002018  ...  Living together               Yes\n",
              "4       Kenya 1970-01-01 00:00:00.000002018  ...    Never Married                No\n",
              "...       ...                           ...  ...              ...               ...\n",
              "23519  Uganda 1970-01-01 00:00:00.000002018  ...        Seperated               Yes\n",
              "23520  Uganda 1970-01-01 00:00:00.000002018  ...    Never Married               Yes\n",
              "23521  Uganda 1970-01-01 00:00:00.000002018  ...          Widowed                No\n",
              "23522  Uganda 1970-01-01 00:00:00.000002018  ...        Seperated                No\n",
              "23523  Uganda 1970-01-01 00:00:00.000002018  ...    Never Married                No\n",
              "\n",
              "[23524 rows x 14 columns]"
            ]
          },
          "metadata": {},
          "execution_count": 21
        }
      ]
    },
    {
      "cell_type": "code",
      "metadata": {
        "id": "-MuolIPLgQC2"
      },
      "source": [
        "#Exporting the cleaned dataset.\n",
        "#\n",
        "df.to_csv('Financial_Inclusivity.csv')\n"
      ],
      "execution_count": null,
      "outputs": []
    },
    {
      "cell_type": "markdown",
      "metadata": {
        "id": "blfvrEWNFcO9"
      },
      "source": [
        "\n",
        "##Business Overview\n",
        "\n",
        "Financial inclusion remains one of the main obstacles to economic and human development in Africa. For example, across Kenya, Rwanda, Tanzania, and Uganda only 9.1 million adults (or 14% of adults) have access to or use a commercial bank account. In the recent past, there has been a significant growth of innovative fintech solutions like MPESA services.How can mobile money transaction services(fintech and mobile banking)  lead to greater financial inclusion for people who don't have access to banks. Greater financial inclusion leads to easier transactions, greater access to credit services, an easier tax base to achieve revenues, better access to savings, insurance \n",
        "and fintech services.\n",
        "\n",
        "\n",
        "###ANALYSIS\n",
        "\n",
        "After these processes the data will be clean to a satisfactory degree and will now be ready for analysis which will be done both in the pandas method and the sql method.\n",
        "\n",
        "This will be done using both pandas as well as visualization tools available in the python libraries.This will mean both statistical values and visualizations of target variables will be displayed.\n",
        "\n",
        "Particular visualization tools will be the seaborn and matplot library visualization.\n",
        "\n",
        "####Problem Statement:\n",
        "\n",
        "How mobile money transactions can lead to greater financial inclusion for people who don't have access to banks.Greater financial inclusion leads to greater access to credit services, easier tax base to achieve revenues, better access to savings and fintech services. \n",
        "\n",
        "This analysis into the problem statement wii be  the form of solving the following objective questions:\n",
        "\n",
        "\n",
        "-To determine the number of people who have access to mobile phones and don't have access to the banks\n",
        "\n",
        "-To determine the percentage of level of access to mobile phones for people in the region.\n",
        "\n",
        "-To determine the percentage of level of access to mobile phones for people in urban areas and rural areas\n",
        "\n",
        "-To determine the percentage of level of access to mobile phones for people in the region per country .\n",
        "\n",
        "-To determine the number of people with access to bank accounts and how this varies in urban and rural areas, variance between the formally employed and the self employed.\n",
        "\n",
        "-To determine the country with the most mobile phones and the highest number of bank accounts.\n",
        "\n",
        "-To determine the influence of mobile phone access to and location to job type. \n",
        "- To determine the people to be targeted with mobile banking integration.\n",
        "-To determine the job type to be targeted with fintech marketing in the region for people with a phone but no bank account\n",
        "\n",
        "-To determine which age has the most access to mobile phones Age with mobile phone but no bank account, highestAge with mobile phone and bank account.\n",
        "\n",
        "\n",
        "Finally, having answered the objective questions,we will then conclude with an evaluation of the research which was based on the above problem statement. \n"
      ]
    },
    {
      "cell_type": "code",
      "metadata": {
        "id": "Gj9GiV_CO3WI"
      },
      "source": [
        "import pandas as pd\n",
        "import numpy as np\n"
      ],
      "execution_count": null,
      "outputs": []
    },
    {
      "cell_type": "code",
      "metadata": {
        "id": "ua33UhT9PDXF"
      },
      "source": [
        "df=pd.read_csv('/content/Financial_Inclusivity.csv')"
      ],
      "execution_count": null,
      "outputs": []
    },
    {
      "cell_type": "code",
      "metadata": {
        "colab": {
          "base_uri": "https://localhost:8080/"
        },
        "id": "820dB_ymPRdd",
        "outputId": "32852244-d9eb-43ab-90fe-69538202db8c"
      },
      "source": [
        "df.dtypes\n"
      ],
      "execution_count": 19,
      "outputs": [
        {
          "output_type": "execute_result",
          "data": {
            "text/plain": [
              "country                           object\n",
              "year                      datetime64[ns]\n",
              "bank_account                      object\n",
              "location_type                     object\n",
              "cellphone_access                  object\n",
              "household_size                     int64\n",
              "age_of_respondent                  int64\n",
              "gender_of_respondent              object\n",
              "relationship_with_head            object\n",
              "marital_status                    object\n",
              "education_level                   object\n",
              "job_type                          object\n",
              "living_condition                  object\n",
              "head_of_household                 object\n",
              "dtype: object"
            ]
          },
          "metadata": {},
          "execution_count": 19
        }
      ]
    },
    {
      "cell_type": "code",
      "metadata": {
        "colab": {
          "base_uri": "https://localhost:8080/"
        },
        "id": "-Z9J2lrFOrK3",
        "outputId": "24f95a09-764b-4f96-bdc8-59d892c06cc0"
      },
      "source": [
        "#The first reaserch objective is as follows:\n",
        "#To determine the number of people who have access to mobile phones and don't have access to the banks\n",
        "#\n",
        "A=df.loc[(df['cellphone_access']=='Yes')& (df['bank_account']=='No')]\n",
        "A.value_counts('country')\n"
      ],
      "execution_count": null,
      "outputs": [
        {
          "output_type": "execute_result",
          "data": {
            "text/plain": [
              "country\n",
              "Rwanda      6265\n",
              "Tanzania    3362\n",
              "Kenya       3326\n",
              "Uganda      1293\n",
              "dtype: int64"
            ]
          },
          "metadata": {},
          "execution_count": 5
        }
      ]
    },
    {
      "cell_type": "code",
      "metadata": {
        "colab": {
          "base_uri": "https://localhost:8080/"
        },
        "id": "8U79GiOXV0mO",
        "outputId": "3d097603-866c-4be4-ded7-e6f6f3efac42"
      },
      "source": [
        "#The second research question is as follows:\n",
        "#To determine the percentage of level of access to mobile phones for people in the region per country.\n",
        "#\n",
        "B=df.loc[(df['cellphone_access']=='Yes')] \n",
        "B.value_counts('country', normalize=True)\n",
        "\n"
      ],
      "execution_count": null,
      "outputs": [
        {
          "output_type": "execute_result",
          "data": {
            "text/plain": [
              "country\n",
              "Rwanda      0.415320\n",
              "Kenya       0.274149\n",
              "Tanzania    0.226653\n",
              "Uganda      0.083878\n",
              "dtype: float64"
            ]
          },
          "metadata": {},
          "execution_count": 12
        }
      ]
    },
    {
      "cell_type": "code",
      "metadata": {
        "colab": {
          "base_uri": "https://localhost:8080/"
        },
        "id": "sxkouyH-Z8BO",
        "outputId": "a86ab413-b531-4262-a32c-b1c2b26cc45f"
      },
      "source": [
        "#The third research question is as follows:\n",
        "#To determine the percentage of level of access to mobile phones for people in urban areas and rural areas\n",
        "#\n",
        "RU=df.loc[(df['cellphone_access']=='Yes')] \n",
        "RU.value_counts('location_type', normalize=True)"
      ],
      "execution_count": null,
      "outputs": [
        {
          "output_type": "execute_result",
          "data": {
            "text/plain": [
              "location_type\n",
              "Rural    0.634239\n",
              "Urban    0.365761\n",
              "dtype: float64"
            ]
          },
          "metadata": {},
          "execution_count": 14
        }
      ]
    },
    {
      "cell_type": "code",
      "metadata": {
        "colab": {
          "base_uri": "https://localhost:8080/"
        },
        "id": "r9CJR2-cakl7",
        "outputId": "bf95ca75-b7f9-464f-e39b-5cdef1478321"
      },
      "source": [
        "#The fourth research question is as follows:\n",
        "#To determine access to mobile phones for people in the region per country .\n",
        "#\n",
        "D=df.loc[(df['cellphone_access']=='Yes')] \n",
        "D.value_counts('country')\n"
      ],
      "execution_count": null,
      "outputs": [
        {
          "output_type": "execute_result",
          "data": {
            "text/plain": [
              "country\n",
              "Rwanda      7249\n",
              "Kenya       4785\n",
              "Tanzania    3956\n",
              "Uganda      1464\n",
              "dtype: int64"
            ]
          },
          "metadata": {},
          "execution_count": 15
        }
      ]
    },
    {
      "cell_type": "code",
      "metadata": {
        "colab": {
          "base_uri": "https://localhost:8080/"
        },
        "id": "X5-gpxQam5cf",
        "outputId": "f4f4108a-a200-491c-a095-f1c7e594f9ad"
      },
      "source": [
        "#The fifth research question is as follows:\n",
        "#To determine which age has the most access to mobile phones.\n",
        "#\n",
        "age=df.loc[(df['cellphone_access']=='Yes')]\n",
        "ag=age.value_counts('age_of_respondent')\n",
        "ag.head(1)"
      ],
      "execution_count": null,
      "outputs": [
        {
          "output_type": "execute_result",
          "data": {
            "text/plain": [
              "age_of_respondent\n",
              "30    824\n",
              "dtype: int64"
            ]
          },
          "metadata": {},
          "execution_count": 31
        }
      ]
    },
    {
      "cell_type": "code",
      "metadata": {
        "colab": {
          "base_uri": "https://localhost:8080/",
          "height": 334
        },
        "id": "JoNTUArO6wK0",
        "outputId": "3719534b-ef57-4d42-a6d0-41ffbe552f25"
      },
      "source": [
        "#The fifth question visualized will present the distribution of the results.\n",
        "#And assist in the identification of correlations between mobile access and ages of the respondents.\n",
        "#We will use the user friendly Seaborn and matplotlib libraries to do this.\n",
        "import seaborn as sns\n",
        "from matplotlib import pyplot as plt\n",
        "plt.figure(figsize=(23,7))\n",
        "sns.countplot(x='age_of_respondent', data=df ,hue='cellphone_access' )\n",
        "\n",
        "\n"
      ],
      "execution_count": null,
      "outputs": [
        {
          "output_type": "execute_result",
          "data": {
            "text/plain": [
              "<matplotlib.axes._subplots.AxesSubplot at 0x7f7601c8afd0>"
            ]
          },
          "metadata": {},
          "execution_count": 6
        },
        {
          "output_type": "display_data",
          "data": {
            "image/png": "[encoded data removed]",
            "text/plain": [
              "<Figure size 1656x504 with 1 Axes>"
            ]
          },
          "metadata": {
            "needs_background": "light"
          }
        }
      ]
    },
    {
      "cell_type": "markdown",
      "metadata": {
        "id": "ICIff97ld-Ra"
      },
      "source": [
        "The trend was identified as follows; a sharp increase between the 16 years to 30 years, the steady and slightly steep decline to the 90 years before reaching near zero.It was also noted that the number of lack of cell phone accesses was highest at 16 years and gradually declined with occasional spikes in count till reaching near zero at 100 years.It is also evident that these numbers wa higher than cell phone access counts after 90 years."
      ]
    },
    {
      "cell_type": "code",
      "metadata": {
        "colab": {
          "base_uri": "https://localhost:8080/"
        },
        "id": "Y58Kc140R8ph",
        "outputId": "dfb6ae48-2537-4d9e-c15a-be7422533875"
      },
      "source": [
        "#The sixth research question is as follows:\n",
        "#-To determine the country with the most mobile phones.\n",
        "#\n",
        "phone=df.loc[(df['cellphone_access']=='Yes')]\n",
        "c=phone.value_counts('country')\n",
        "c.head(1)\n",
        "\n",
        "#This was identified to be Rwanda."
      ],
      "execution_count": null,
      "outputs": [
        {
          "output_type": "execute_result",
          "data": {
            "text/plain": [
              "country\n",
              "Rwanda    7249\n",
              "dtype: int64"
            ]
          },
          "metadata": {},
          "execution_count": 18
        }
      ]
    },
    {
      "cell_type": "code",
      "metadata": {
        "colab": {
          "base_uri": "https://localhost:8080/"
        },
        "id": "9oVCYmgWgZd3",
        "outputId": "8bd9a806-b94b-492e-c9a1-100678f76470"
      },
      "source": [
        "#The seventh research question is as follows:\n",
        "#Determining the country with the most bank accounts.\n",
        "#\n",
        "bank=df.loc[(df['bank_account']=='Yes')]\n",
        "b=bank.value_counts('country')\n",
        "b.head(1)\n",
        "#This was identified as Kenya."
      ],
      "execution_count": null,
      "outputs": [
        {
          "output_type": "execute_result",
          "data": {
            "text/plain": [
              "country\n",
              "Kenya    1521\n",
              "dtype: int64"
            ]
          },
          "metadata": {},
          "execution_count": 19
        }
      ]
    },
    {
      "cell_type": "code",
      "metadata": {
        "id": "e1r435fppXbM"
      },
      "source": [
        "#We will now carry out visualizaion for the dataset above.\n",
        "#We will use the seaborn library and matplotlib library for the visualization.\n",
        "#\n",
        "import seaborn as sns\n",
        "from matplotlib import pyplot as plt\n"
      ],
      "execution_count": 23,
      "outputs": []
    },
    {
      "cell_type": "code",
      "metadata": {
        "colab": {
          "base_uri": "https://localhost:8080/",
          "height": 351
        },
        "id": "8OFvZCdAqJls",
        "outputId": "32b2744a-5fe1-4655-bb3b-03931b87e7d0"
      },
      "source": [
        "#The first visualization will regard.\n",
        "#Determination of trends between the number of people who have access to mobile phones and don't have access to the banks per country\n",
        "#\n",
        "plt.figure(figsize=(10,5))\n",
        "plt.subplot(1,2,1)\n",
        "sns.countplot(x='country', data=df ,hue='cellphone_access' )\n",
        "plt.subplot(1,2,2)\n",
        "sns.countplot(x='country', data=df ,hue='bank_account' )"
      ],
      "execution_count": null,
      "outputs": [
        {
          "output_type": "execute_result",
          "data": {
            "text/plain": [
              "<matplotlib.axes._subplots.AxesSubplot at 0x7f76006b9a50>"
            ]
          },
          "metadata": {},
          "execution_count": 13
        },
        {
          "output_type": "display_data",
          "data": {
            "image/png": "[encoded data removed]",
            "text/plain": [
              "<Figure size 720x360 with 2 Axes>"
            ]
          },
          "metadata": {
            "needs_background": "light"
          }
        }
      ]
    },
    {
      "cell_type": "markdown",
      "metadata": {
        "id": "T8Crh0IvbyDF"
      },
      "source": [
        "The primary trend is that the countries cellphone access counts seems to relate the lack of bank account accesses.This being because the count levels for cellphone accesses being nearly the same if not less than the count levels for persons lacking bank accounts."
      ]
    },
    {
      "cell_type": "code",
      "metadata": {
        "id": "Mp6YbWKD7TCt",
        "outputId": "2d39cff3-663e-4465-c942-a7ec674ebbbc",
        "colab": {
          "base_uri": "https://localhost:8080/",
          "height": 297
        }
      },
      "source": [
        "#The second visualization will regard.\n",
        "#Determination of the number of people in rural and urban areas. \n",
        "#\n",
        "sns.countplot(x='location_type', data=df )"
      ],
      "execution_count": 24,
      "outputs": [
        {
          "output_type": "execute_result",
          "data": {
            "text/plain": [
              "<matplotlib.axes._subplots.AxesSubplot at 0x7fe0ba00f790>"
            ]
          },
          "metadata": {},
          "execution_count": 24
        },
        {
          "output_type": "display_data",
          "data": {
            "image/png": "[encoded data removed]",
            "text/plain": [
              "<Figure size 432x288 with 1 Axes>"
            ]
          },
          "metadata": {
            "needs_background": "light"
          }
        }
      ]
    },
    {
      "cell_type": "markdown",
      "metadata": {
        "id": "hjNvuoWN8vvw"
      },
      "source": [
        "From here it is clear that the survey contained respondents largely from rural areas than urban areas. Here it might be safe to speculate that if these numbers were equal the results to follow may have been differnt."
      ]
    },
    {
      "cell_type": "code",
      "metadata": {
        "id": "5UG42Y83_X-v",
        "outputId": "3440b3e9-c75b-4efd-86e9-14be4b1ae917",
        "colab": {
          "base_uri": "https://localhost:8080/",
          "height": 515
        }
      },
      "source": [
        "#The third visualization will regard.\n",
        "#Determination of the trends between education type within the datasets. \n",
        "#\n",
        "plt.figure(figsize=(15,8))\n",
        "sns.countplot(x='education_level', data=df )"
      ],
      "execution_count": 30,
      "outputs": [
        {
          "output_type": "execute_result",
          "data": {
            "text/plain": [
              "<matplotlib.axes._subplots.AxesSubplot at 0x7fe0b911c850>"
            ]
          },
          "metadata": {},
          "execution_count": 30
        },
        {
          "output_type": "display_data",
          "data": {
            "image/png": "[encoded data removed]",
            "text/plain": [
              "<Figure size 1080x576 with 1 Axes>"
            ]
          },
          "metadata": {
            "needs_background": "light"
          }
        }
      ]
    },
    {
      "cell_type": "markdown",
      "metadata": {
        "id": "r94-_Uq2ACqg"
      },
      "source": [
        "Here we can see that the majority of respondents from the survey had primary education level."
      ]
    },
    {
      "cell_type": "code",
      "metadata": {
        "id": "kkxAKaEDAfTD",
        "outputId": "f86bde8c-be5b-42f7-9c1f-8f524d048faa",
        "colab": {
          "base_uri": "https://localhost:8080/",
          "height": 515
        }
      },
      "source": [
        "#The fourth visualization will regard.\n",
        "#Determination of the influence between education level  to job type counts.\n",
        "#\n",
        "plt.figure(figsize=(15,8))\n",
        "sns.countplot(x='education_level', data=df ,hue='job_type' )"
      ],
      "execution_count": 31,
      "outputs": [
        {
          "output_type": "execute_result",
          "data": {
            "text/plain": [
              "<matplotlib.axes._subplots.AxesSubplot at 0x7fe0b9087190>"
            ]
          },
          "metadata": {},
          "execution_count": 31
        },
        {
          "output_type": "display_data",
          "data": {
            "image/png": "[encoded data removed]",
            "text/plain": [
              "<Figure size 1080x576 with 1 Axes>"
            ]
          },
          "metadata": {
            "needs_background": "light"
          }
        }
      ]
    },
    {
      "cell_type": "markdown",
      "metadata": {
        "id": "7iuhN560A3sn"
      },
      "source": [
        "There is an interesting trend here, as the majority of the job  tpye counts are concenterated among those who have reached primary education.Another point to note that lowest job type counts are concentrated among the specialised trainning and teriary education level persons."
      ]
    },
    {
      "cell_type": "code",
      "metadata": {
        "id": "SmCYtfzG7sbH",
        "outputId": "d8e3b200-2f42-42c5-c5ae-87ac8f74b838",
        "colab": {
          "base_uri": "https://localhost:8080/",
          "height": 297
        }
      },
      "source": [
        "#The fifth visualization will regard.\n",
        "#Determination of the influence between bank account access to marital status.\n",
        "#\n",
        "sns.countplot(x='bank_account', data=df ,hue='marital_status' )"
      ],
      "execution_count": 25,
      "outputs": [
        {
          "output_type": "execute_result",
          "data": {
            "text/plain": [
              "<matplotlib.axes._subplots.AxesSubplot at 0x7fe0c805e1d0>"
            ]
          },
          "metadata": {},
          "execution_count": 25
        },
        {
          "output_type": "display_data",
          "data": {
            "image/png": "[encoded data removed]",
            "text/plain": [
              "<Figure size 432x288 with 1 Axes>"
            ]
          },
          "metadata": {
            "needs_background": "light"
          }
        }
      ]
    },
    {
      "cell_type": "markdown",
      "metadata": {
        "id": "Qwm1lbEu7_bS"
      },
      "source": [
        "From this we can see the relation between bank accounts and maritial statuses.The largest concentration of maritial statuse donot have access to bank accounts.The targets for focus in fitech campaigns should be for married and singlepersons as they carry greater weight in the group lacking bank access."
      ]
    },
    {
      "cell_type": "code",
      "metadata": {
        "colab": {
          "base_uri": "https://localhost:8080/",
          "height": 296
        },
        "id": "qxMob6OV0Zgx",
        "outputId": "1f712917-4dfe-4e0e-b410-367eb732f12f"
      },
      "source": [
        "#The sixth visualization will regard.\n",
        "#Determination of the number of people who have access to mobile phones per country .\n",
        "#\n",
        "sns.countplot(x='country', data=df ,hue='cellphone_access' )"
      ],
      "execution_count": null,
      "outputs": [
        {
          "output_type": "execute_result",
          "data": {
            "text/plain": [
              "<matplotlib.axes._subplots.AxesSubplot at 0x7f8ce4123fd0>"
            ]
          },
          "metadata": {},
          "execution_count": 26
        },
        {
          "output_type": "display_data",
          "data": {
            "image/png": "[encoded data removed]",
            "text/plain": [
              "<Figure size 432x288 with 1 Axes>"
            ]
          },
          "metadata": {
            "needs_background": "light"
          }
        }
      ]
    },
    {
      "cell_type": "code",
      "metadata": {
        "colab": {
          "base_uri": "https://localhost:8080/",
          "height": 297
        },
        "id": "1R8mkY9E1V9g",
        "outputId": "dd25dea6-3808-487b-bb42-0094cc3891f2"
      },
      "source": [
        "#The seventh visualization will regard.\n",
        "#Determination of the level of access to mobile phones for people in urban areas and rural areas.\n",
        "#\n",
        "sns.countplot(x='location_type', data=df ,hue='cellphone_access' )"
      ],
      "execution_count": null,
      "outputs": [
        {
          "output_type": "execute_result",
          "data": {
            "text/plain": [
              "<matplotlib.axes._subplots.AxesSubplot at 0x7f8ce405d510>"
            ]
          },
          "metadata": {},
          "execution_count": 27
        },
        {
          "output_type": "display_data",
          "data": {
            "image/png": "[encoded data removed]",
            "text/plain": [
              "<Figure size 432x288 with 1 Axes>"
            ]
          },
          "metadata": {
            "needs_background": "light"
          }
        }
      ]
    },
    {
      "cell_type": "markdown",
      "metadata": {
        "id": "u6ZHeKcVbOJR"
      },
      "source": [
        "From this an interesting trend is noted, this involves the rural areas having greater number of cellphone accesses than urban areas.It is also noted that the numbers of persons lacking cellphone access is nearly the same in both locationtypes."
      ]
    },
    {
      "cell_type": "code",
      "metadata": {
        "colab": {
          "base_uri": "https://localhost:8080/",
          "height": 515
        },
        "id": "d_xJof0z3-MR",
        "outputId": "75b71a6c-afa3-45ef-87af-59b6617cc569"
      },
      "source": [
        "#The eigth visualization will regard.\n",
        "#Determination of the influence of mobile phone access to employment status..\n",
        "#\n",
        "plt.figure(figsize=(11,8))\n",
        "sns.countplot(x='cellphone_access', data=df ,hue='job_type' )"
      ],
      "execution_count": null,
      "outputs": [
        {
          "output_type": "execute_result",
          "data": {
            "text/plain": [
              "<matplotlib.axes._subplots.AxesSubplot at 0x7f8ce5a34a10>"
            ]
          },
          "metadata": {},
          "execution_count": 28
        },
        {
          "output_type": "display_data",
          "data": {
            "image/png": "[encoded data removed]",
            "text/plain": [
              "<Figure size 792x576 with 1 Axes>"
            ]
          },
          "metadata": {
            "needs_background": "light"
          }
        }
      ]
    },
    {
      "cell_type": "markdown",
      "metadata": {
        "id": "c2NcYTFEaE6B"
      },
      "source": [
        "Here it was identified that the larger concentration of higher job types count was among those with cellphones, while there were substantially fewer job type counts for those without cellphone access.From this it is clear that their is a large market of income earners without cellphones and they would be best for fintech cellphone marketing campaigns.\n"
      ]
    },
    {
      "cell_type": "code",
      "metadata": {
        "colab": {
          "base_uri": "https://localhost:8080/",
          "height": 623
        },
        "id": "ab2KTP2qVOk7",
        "outputId": "bad3161a-eac5-41aa-c50d-012dd5470c48"
      },
      "source": [
        "#The ninth visualization will regard:\n",
        "#Identification of the employment type and bank account access, this will determine the areas of interest for analysis. \n",
        "#\n",
        "plt.figure(figsize=(12,10))\n",
        "sns.countplot(x='bank_account', data=df ,hue='job_type' )"
      ],
      "execution_count": null,
      "outputs": [
        {
          "output_type": "execute_result",
          "data": {
            "text/plain": [
              "<matplotlib.axes._subplots.AxesSubplot at 0x7f8ce51ede50>"
            ]
          },
          "metadata": {},
          "execution_count": 29
        },
        {
          "output_type": "display_data",
          "data": {
            "image/png": "[encoded data removed]",
            "text/plain": [
              "<Figure size 864x720 with 1 Axes>"
            ]
          },
          "metadata": {
            "needs_background": "light"
          }
        }
      ]
    },
    {
      "cell_type": "markdown",
      "metadata": {
        "id": "-at4PxuIZ4Tg"
      },
      "source": [
        "From the above, it has been noted that the largest portion of job types counts belonged to persons without any available bank accounts . This means that there is a large market for persons without bank accounts with income sources who can be targeted for fintech services.\n",
        "\n"
      ]
    },
    {
      "cell_type": "code",
      "metadata": {
        "id": "KlLqn9At9hSN",
        "outputId": "5ab1b660-26f1-4b15-9f35-1f0192a68324",
        "colab": {
          "base_uri": "https://localhost:8080/",
          "height": 623
        }
      },
      "source": [
        "#The tenth visualization will regard:\n",
        "#Identification of the bank account access influence on the head of households. \n",
        "#\n",
        "plt.figure(figsize=(12,10))\n",
        "sns.countplot(x='bank_account', data=df ,hue='head_of_household' )"
      ],
      "execution_count": 27,
      "outputs": [
        {
          "output_type": "execute_result",
          "data": {
            "text/plain": [
              "<matplotlib.axes._subplots.AxesSubplot at 0x7fe0b936bd90>"
            ]
          },
          "metadata": {},
          "execution_count": 27
        },
        {
          "output_type": "display_data",
          "data": {
            "image/png": "[encoded data removed]",
            "text/plain": [
              "<Figure size 864x720 with 1 Axes>"
            ]
          },
          "metadata": {
            "needs_background": "light"
          }
        }
      ]
    },
    {
      "cell_type": "markdown",
      "metadata": {
        "id": "tfAWI74E9-50"
      },
      "source": [
        "From here we can tell that the majority of persons without bank accounts are both heads of households as well as non heads of household.There seems same number of counts for heads of households as well as non heads of household."
      ]
    },
    {
      "cell_type": "code",
      "metadata": {
        "colab": {
          "base_uri": "https://localhost:8080/",
          "height": 623
        },
        "id": "SO7ROY3dWJ45",
        "outputId": "98de4a73-0dd2-4b67-93ba-345cec1d8a65"
      },
      "source": [
        "#The eleventh visualization will regard:\n",
        "#Identification of the employment type and location type, this will determine the areas of interest for analysis. \n",
        "#\n",
        "plt.figure(figsize=(12,10))\n",
        "sns.countplot(x='location_type', data=df ,hue='job_type' )"
      ],
      "execution_count": null,
      "outputs": [
        {
          "output_type": "execute_result",
          "data": {
            "text/plain": [
              "<matplotlib.axes._subplots.AxesSubplot at 0x7f7600472610>"
            ]
          },
          "metadata": {},
          "execution_count": 15
        },
        {
          "output_type": "display_data",
          "data": {
            "image/png": "[encoded data removed]",
            "text/plain": [
              "<Figure size 864x720 with 1 Axes>"
            ]
          },
          "metadata": {
            "needs_background": "light"
          }
        }
      ]
    },
    {
      "cell_type": "markdown",
      "metadata": {
        "id": "724xS92SaZ4v"
      },
      "source": [
        "Here it was identified that the larger concentration of higher job types count was among those with in rural area, while there were substantially less job type counts for those in urban  areas.This means that it would be best to renew efforts targeting rural areas."
      ]
    }
  ]
}